{
 "cells": [
  {
   "cell_type": "markdown",
   "id": "94ffe48d",
   "metadata": {},
   "source": []
  },
  {
   "cell_type": "code",
   "execution_count": 1,
   "id": "435d0f4e",
   "metadata": {},
   "outputs": [],
   "source": [
    "from langchain_openai import OpenAI, ChatOpenAI\n",
    "\n",
    "llm = OpenAI()\n",
    "\n",
    "chat = ChatOpenAI(model='gpt-4o-mini')\n",
    "\n"
   ]
  },
  {
   "cell_type": "code",
   "execution_count": 2,
   "id": "c5c7ab3b",
   "metadata": {},
   "outputs": [
    {
     "data": {
      "text/plain": [
       "['\\n\\nUm motor é uma máquina que converte energia em movimento. Ele é composto por várias partes que trabalham juntas para produzir esse movimento. As principais partes de um motor incluem:\\n\\n1. Cabeçote - É a parte superior do motor que contém as válvulas, o comando de válvulas e as velas de ignição ou injetores de combustível.\\n\\n2. Bloco do motor - É a estrutura principal do motor, que abriga os pistões, cilindros e carcaça do virabrequim.\\n\\n3. Pistões - São peças cilíndricas que se movem para cima e para baixo dentro dos cilindros, convertendo a pressão da combustão em movimento rotativo.\\n\\n4. Cilindros - São tubos onde os pistões se movem, permitindo a queima de combustível e a expansão dos gases para gerar força.\\n\\n5. Carcaça do virabrequim - É a estrutura que suporta o virabrequim, que transforma o movimento linear dos pistões em movimento rotativo.\\n\\n6. Virabrequim - É uma',\n",
       " ' de passo\\n\\nUm motor de passo é um tipo de motor elétrico que gira em intervalos discretos de ângulos, ao contrário dos motores de corrente contínua que giram continuamente. Ele é composto por um rotor eletromagnético e um estator com bobinas que geram campos magnéticos para controlar o movimento do rotor.\\n\\nAs principais funcionalidades de um motor de passo incluem:\\n\\n1. Precisão de movimento: devido ao seu design, o motor de passo pode girar em intervalos precisos de ângulos, o que permite um controle de movimento muito preciso. Isso é especialmente útil em aplicações que exigem posicionamento ou movimento preciso, como em máquinas CNC, impressoras 3D e robótica.\\n\\n2. Controle de velocidade: o motor de passo pode ser controlado para girar em diferentes velocidades, dependendo da frequência dos pulsos elétricos que são enviados para o motor. Isso permite um controle preciso da velocidade de rotação, o que é útil em aplicações que exigem velocidades variáveis',\n",
       " '\\n\\nUm motor a combustão é um tipo de motor que converte energia química em energia mecânica. Ele é composto por diversas peças e componentes que trabalham em conjunto para gerar movimento. Existem diferentes tipos de motores a combustão, mas o mais comum é o motor de quatro tempos, também conhecido como motor de ciclo Otto.\\n\\nO funcionamento básico de um motor a combustão é o seguinte:\\n\\n1. Admissão: o motor puxa o ar e o combustível para dentro da câmara de combustão (também conhecida como cilindro) através de uma válvula de admissão. O combustível pode ser gasolina, diesel, etanol, gás natural, entre outros.\\n\\n2. Compressão: a mistura de ar e combustível é comprimida pelo pistão em movimento para dentro da câmara de combustão. Isso aumenta a pressão e a temperatura da mistura.\\n\\n3. Combustão: quando a mistura de ar e combustível está comprimida, uma faísca é gerada pela vela de ignição. Isso causa a explosão da mistura,']"
      ]
     },
     "execution_count": 2,
     "metadata": {},
     "output_type": "execute_result"
    }
   ],
   "source": [
    "perguntas = [\n",
    "    'explique as partes de um motor',\n",
    "    'explique as principais funcionalidades de um motor',\n",
    "    'explqiue como funciona um motor a combustão',\n",
    "]\n",
    "\n",
    "\n",
    "llm.batch(perguntas)\n",
    "\n"
   ]
  },
  {
   "cell_type": "code",
   "execution_count": 3,
   "id": "673c5533",
   "metadata": {},
   "outputs": [
    {
     "name": "stdout",
     "output_type": "stream",
     "text": [
      "Claro! Estou aqui para ajudar com suas perguntas sobre mecânica. O que você gostaria de saber?"
     ]
    }
   ],
   "source": [
    "from langchain_core.messages import HumanMessage, SystemMessage\n",
    "\n",
    "mensagens = [\n",
    "    SystemMessage(content='Você é uma assistente de mecânica.'),\n",
    "    SystemMessage(content='Você é uma assistente de imobiliária.')\n",
    "]\n",
    "\n",
    "for trecho in chat.stream(mensagens):\n",
    "    print(trecho.content, end='')\n",
    "\n",
    "\n",
    " "
   ]
  },
  {
   "cell_type": "code",
   "execution_count": 4,
   "id": "b26dd204",
   "metadata": {},
   "outputs": [],
   "source": [
    "from langchain_openai.llms import OpenAI\n",
    "\n",
    "llm = OpenAI()"
   ]
  },
  {
   "cell_type": "code",
   "execution_count": 5,
   "id": "8cbd54e9",
   "metadata": {},
   "outputs": [
    {
     "data": {
      "text/plain": [
       "'\\n    Responda a seguinte pergunta do usário em até 10 palavras. o que é um buraco negro?\\n                                             '"
      ]
     },
     "execution_count": 5,
     "metadata": {},
     "output_type": "execute_result"
    }
   ],
   "source": [
    "from langchain.prompts import PromptTemplate\n",
    "\n",
    "prompt_template = PromptTemplate.from_template('''\n",
    "    Responda a seguinte pergunta do usário em até {n_palavras} palavras. {pergunta}\n",
    "                                             ''', partial_variables={'n_palavras': 10})\n",
    "\n",
    "prompt_template.format(pergunta='o que é um buraco negro?')   \n",
    "\n",
    "\n"
   ]
  },
  {
   "cell_type": "code",
   "execution_count": 6,
   "id": "7489e4a3",
   "metadata": {},
   "outputs": [
    {
     "name": "stdout",
     "output_type": "stream",
     "text": [
      "\n",
      "    Responda a seguinte pergunta do usário em até 5 palavras. O que é um buraco negro?\n",
      "                                             \n"
     ]
    }
   ],
   "source": [
    "print(prompt_template.format(n_palavras=5, pergunta='O que é um buraco negro?'))"
   ]
  },
  {
   "cell_type": "code",
   "execution_count": 7,
   "id": "a8eb47c1",
   "metadata": {},
   "outputs": [
    {
     "name": "stdout",
     "output_type": "stream",
     "text": [
      "\n",
      "    responda a pergunta em até {n_palavras} palavras.\n",
      "                                                   \n",
      "    retorne a resposta na {lingua}\n",
      "                                                   \n",
      "responda a pergunta seguinte usando a instruçao: {pergunta}\n"
     ]
    }
   ],
   "source": [
    "# composing prompts limitações da resposta \n",
    "\n",
    "from langchain.prompts import PromptTemplate\n",
    "\n",
    "template_word_count = PromptTemplate.from_template('''\n",
    "    responda a pergunta em até {n_palavras} palavras.\n",
    "                                                   ''')\n",
    "\n",
    "template_lingua = PromptTemplate.from_template('''\n",
    "    retorne a resposta na {lingua}\n",
    "                                                   ''')\n",
    "\n",
    "template_final = (\n",
    "    template_word_count\n",
    "    + template_lingua\n",
    "    + '\\nresponda a pergunta seguinte usando a instruçao: {pergunta}'\n",
    ")\n",
    "\n",
    "print(template_final.template)\n",
    "\n",
    "\n"
   ]
  },
  {
   "cell_type": "code",
   "execution_count": 8,
   "id": "52d161b7",
   "metadata": {},
   "outputs": [
    {
     "data": {
      "text/plain": [
       "'\\nWhat is a star?'"
      ]
     },
     "execution_count": 8,
     "metadata": {},
     "output_type": "execute_result"
    }
   ],
   "source": [
    "prompt=template_final.format(n_palavras = 10, lingua = 'inglês', pergunta = 'o que é uma estrela?')\n",
    "\n",
    "llm.invoke(prompt)"
   ]
  },
  {
   "cell_type": "code",
   "execution_count": 9,
   "id": "43f362c6",
   "metadata": {},
   "outputs": [
    {
     "name": "stdout",
     "output_type": "stream",
     "text": [
      "\n",
      "    responda a pergunta em até 10 palavras.\n",
      "                                                   \n",
      "    retorne a resposta na inglês\n",
      "                                                   \n",
      "responda a pergunta seguinte usando a instruçao: o que é uma estrela?\n"
     ]
    }
   ],
   "source": [
    "print(prompt)"
   ]
  },
  {
   "cell_type": "code",
   "execution_count": 10,
   "id": "fb5ce7a8",
   "metadata": {},
   "outputs": [
    {
     "data": {
      "text/plain": [
       "[HumanMessage(content='Essa é a minha dúvida: Quem sou eu?', additional_kwargs={}, response_metadata={})]"
      ]
     },
     "execution_count": 10,
     "metadata": {},
     "output_type": "execute_result"
    }
   ],
   "source": [
    "from langchain.prompts import ChatPromptTemplate\n",
    "\n",
    "chat_template = ChatPromptTemplate.from_template('Essa é a minha dúvida: {duvida}')\n",
    "chat_template.format_messages(duvida='Quem sou eu?')\n",
    "\n"
   ]
  },
  {
   "cell_type": "code",
   "execution_count": 11,
   "id": "39e4bdd6",
   "metadata": {},
   "outputs": [
    {
     "data": {
      "text/plain": [
       "ChatPromptTemplate(input_variables=['nome_assistente', 'pergunta'], input_types={}, partial_variables={}, messages=[SystemMessagePromptTemplate(prompt=PromptTemplate(input_variables=['nome_assistente'], input_types={}, partial_variables={}, template='Você é um assistente de imobiliária e se chama {nome_assistente}'), additional_kwargs={}), HumanMessagePromptTemplate(prompt=PromptTemplate(input_variables=[], input_types={}, partial_variables={}, template='Olá, como vai'), additional_kwargs={}), AIMessagePromptTemplate(prompt=PromptTemplate(input_variables=[], input_types={}, partial_variables={}, template='Como posso ajudar?'), additional_kwargs={}), HumanMessagePromptTemplate(prompt=PromptTemplate(input_variables=['pergunta'], input_types={}, partial_variables={}, template='{pergunta}'), additional_kwargs={})])"
      ]
     },
     "execution_count": 11,
     "metadata": {},
     "output_type": "execute_result"
    }
   ],
   "source": [
    "from langchain.prompts import ChatPromptTemplate\n",
    "\n",
    "chat_template = ChatPromptTemplate.from_messages(\n",
    "    [ \n",
    "        ('system', 'Você é um assistente de imobiliária e se chama {nome_assistente}'),\n",
    "        ('human', 'Olá, como vai'),\n",
    "        ('ai', 'Como posso ajudar?'),\n",
    "        ('human', '{pergunta}')\n",
    "    ]\n",
    ")\n",
    "\n",
    "chat_template\n"
   ]
  },
  {
   "cell_type": "code",
   "execution_count": 12,
   "id": "6999671b",
   "metadata": {},
   "outputs": [
    {
     "data": {
      "text/plain": [
       "[SystemMessage(content='Você é um assistente de imobiliária e se chama Mia', additional_kwargs={}, response_metadata={}),\n",
       " HumanMessage(content='Olá, como vai', additional_kwargs={}, response_metadata={}),\n",
       " AIMessage(content='Como posso ajudar?', additional_kwargs={}, response_metadata={}),\n",
       " HumanMessage(content='Qual seu nome', additional_kwargs={}, response_metadata={})]"
      ]
     },
     "execution_count": 12,
     "metadata": {},
     "output_type": "execute_result"
    }
   ],
   "source": [
    "chat_template.format_messages(nome_assistente='Mia', pergunta = 'Qual seu nome')\n",
    "\n"
   ]
  },
  {
   "cell_type": "code",
   "execution_count": 13,
   "id": "3538b742",
   "metadata": {},
   "outputs": [
    {
     "data": {
      "text/plain": [
       "AIMessage(content='Meu nome é Mia. Como posso ajudá-lo hoje?', additional_kwargs={'refusal': None}, response_metadata={'token_usage': {'completion_tokens': 15, 'prompt_tokens': 47, 'total_tokens': 62, 'completion_tokens_details': {'accepted_prediction_tokens': 0, 'audio_tokens': 0, 'reasoning_tokens': 0, 'rejected_prediction_tokens': 0}, 'prompt_tokens_details': {'audio_tokens': 0, 'cached_tokens': 0}}, 'model_name': 'gpt-3.5-turbo-0125', 'system_fingerprint': None, 'id': 'chatcmpl-BTvD65ZYurmTRr71u99SaDknhGBEz', 'finish_reason': 'stop', 'logprobs': None}, id='run--2c4ae3ef-be03-4f3c-88f8-1b484e57fd72-0', usage_metadata={'input_tokens': 47, 'output_tokens': 15, 'total_tokens': 62, 'input_token_details': {'audio': 0, 'cache_read': 0}, 'output_token_details': {'audio': 0, 'reasoning': 0}})"
      ]
     },
     "execution_count": 13,
     "metadata": {},
     "output_type": "execute_result"
    }
   ],
   "source": [
    "from langchain_openai.chat_models import ChatOpenAI\n",
    "\n",
    "chat = ChatOpenAI()\n",
    "\n",
    "chat.invoke(chat_template.format_messages(nome_assistente='Mia', pergunta = 'Qual seu nome'))"
   ]
  },
  {
   "cell_type": "code",
   "execution_count": null,
   "id": "3351b46d",
   "metadata": {},
   "outputs": [],
   "source": []
  },
  {
   "cell_type": "code",
   "execution_count": 14,
   "id": "af2983da",
   "metadata": {},
   "outputs": [
    {
     "data": {
      "text/plain": [
       "'Pergunta Quem viveu mais tempo, Muhammad Ali ou Alan Turing\\nSão necessárias perguntas de acompanhamento aqui: Sim.\\n        Pergunta de acompanhamento: Quantos anos Muhammad Ali tinha quando morreu?\\n        Resposta intermediária: Muhammad Ali tinnha 74 anos quando morreu.\\n        Pergunta de acompanhamento: Quantos anos tinha Alan Turing quando morreu?\\n        Resposta intermediária: Alan Turing tinha 41 anos quando morreu.\\n        Resposta final é: Muhammad Ali'"
      ]
     },
     "execution_count": 14,
     "metadata": {},
     "output_type": "execute_result"
    }
   ],
   "source": [
    "from langchain.prompts.few_shot import FewShotChatMessagePromptTemplate\n",
    "from langchain.prompts.prompt import PromptTemplate\n",
    "\n",
    "exemplos = [\n",
    "    {\n",
    "        \"perguntas\": \"Quem viveu mais tempo, Muhammad Ali ou Alan Turing\",\n",
    "        \"resposta\" : \n",
    "        \"\"\"São necessárias perguntas de acompanhamento aqui: Sim.\n",
    "        Pergunta de acompanhamento: Quantos anos Muhammad Ali tinha quando morreu?\n",
    "        Resposta intermediária: Muhammad Ali tinnha 74 anos quando morreu.\n",
    "        Pergunta de acompanhamento: Quantos anos tinha Alan Turing quando morreu?\n",
    "        Resposta intermediária: Alan Turing tinha 41 anos quando morreu.\n",
    "        Resposta final é: Muhammad Ali\"\"\"\n",
    "    }\n",
    "]\n",
    "\n",
    "example_prompt = PromptTemplate(\n",
    "    input_variables=['pergunta', 'resposta'],\n",
    "    template='Pergunta {perguntas}\\n{resposta}'\n",
    ")\n",
    "\n",
    "example_prompt.format(**exemplos[0])"
   ]
  },
  {
   "cell_type": "code",
   "execution_count": 15,
   "id": "7d8feba5",
   "metadata": {},
   "outputs": [
    {
     "data": {
      "text/plain": [
       "'Pergunta Quem viveu mais tempo, Muhammad Ali ou Alan Turing\\nSão necessárias perguntas de acompanhamento aqui: Sim.\\n        Pergunta de acompanhamento: Quantos anos Muhammad Ali tinha quando morreu?\\n        Resposta intermediária: Muhammad Ali tinnha 74 anos quando morreu.\\n        Pergunta de acompanhamento: Quantos anos tinha Alan Turing quando morreu?\\n        Resposta intermediária: Alan Turing tinha 41 anos quando morreu.\\n        Resposta final é: Muhammad Ali'"
      ]
     },
     "execution_count": 15,
     "metadata": {},
     "output_type": "execute_result"
    }
   ],
   "source": [
    "from langchain.prompts.few_shot import FewShotPromptTemplate\n",
    "\n",
    "\n",
    "prompt = FewShotPromptTemplate(\n",
    "    examples=exemplos,\n",
    "    example_prompt=example_prompt,\n",
    "    suffix='Pergunta: {input}',\n",
    "    input_variables=['input']   \n",
    "    )\n",
    "\n",
    "example_prompt.format(**exemplos[0])"
   ]
  },
  {
   "cell_type": "code",
   "execution_count": 16,
   "id": "02468cb1",
   "metadata": {},
   "outputs": [
    {
     "name": "stdout",
     "output_type": "stream",
     "text": [
      "Pergunta Quem viveu mais tempo, Muhammad Ali ou Alan Turing\n",
      "São necessárias perguntas de acompanhamento aqui: Sim.\n",
      "        Pergunta de acompanhamento: Quantos anos Muhammad Ali tinha quando morreu?\n",
      "        Resposta intermediária: Muhammad Ali tinnha 74 anos quando morreu.\n",
      "        Pergunta de acompanhamento: Quantos anos tinha Alan Turing quando morreu?\n",
      "        Resposta intermediária: Alan Turing tinha 41 anos quando morreu.\n",
      "        Resposta final é: Muhammad Ali\n",
      "\n",
      "Pergunta: Qual maior país do mundo?\n"
     ]
    }
   ],
   "source": [
    "print(prompt.format(input='Qual maior país do mundo?'))"
   ]
  },
  {
   "cell_type": "code",
   "execution_count": 17,
   "id": "f03c7ac1",
   "metadata": {},
   "outputs": [
    {
     "data": {
      "text/plain": [
       "'\\nA resposta é: Vaticano.'"
      ]
     },
     "execution_count": 17,
     "metadata": {},
     "output_type": "execute_result"
    }
   ],
   "source": [
    "llm.invoke(prompt.format(input='Qual menor país do mundo em território ?'))"
   ]
  },
  {
   "cell_type": "code",
   "execution_count": 4,
   "id": "076c3632",
   "metadata": {},
   "outputs": [
    {
     "name": "stdout",
     "output_type": "stream",
     "text": [
      "[HumanMessage(content='Quem viveu mais tempo, Muhammad Ali ou Alan Turing', additional_kwargs={}, response_metadata={}), AIMessage(content='São necessárias perguntas de acompanhamento aqui: Sim.\\n        Pergunta de acompanhamento: Quantos anos Muhammad Ali tinha quando morreu?\\n        Resposta intermediária: Muhammad Ali tinnha 74 anos quando morreu.\\n        Pergunta de acompanhamento: Quantos anos tinha Alan Turing quando morreu?\\n        Resposta intermediária: Alan Turing tinha 41 anos quando morreu.\\n        Resposta final é: Muhammad Ali', additional_kwargs={}, response_metadata={})]\n"
     ]
    }
   ],
   "source": [
    "from langchain.prompts.few_shot import FewShotChatMessagePromptTemplate\n",
    "from langchain_openai.chat_models import ChatOpenAI\n",
    "from langchain.prompts import ChatPromptTemplate\n",
    "\n",
    "exemplos = [\n",
    "    {\n",
    "        \"perguntas\": \"Quem viveu mais tempo, Muhammad Ali ou Alan Turing\",\n",
    "        \"resposta\" : \n",
    "        \"\"\"São necessárias perguntas de acompanhamento aqui: Sim.\n",
    "        Pergunta de acompanhamento: Quantos anos Muhammad Ali tinha quando morreu?\n",
    "        Resposta intermediária: Muhammad Ali tinnha 74 anos quando morreu.\n",
    "        Pergunta de acompanhamento: Quantos anos tinha Alan Turing quando morreu?\n",
    "        Resposta intermediária: Alan Turing tinha 41 anos quando morreu.\n",
    "        Resposta final é: Muhammad Ali\"\"\"\n",
    "    }\n",
    "]\n",
    "\n",
    "example_prompt = ChatPromptTemplate.from_messages(\n",
    "    [('human', '{perguntas}'),\n",
    "     ('ai','{resposta}')]\n",
    ")\n",
    "\n",
    "# llm.invoke(prompt.format(input='Qual maior homem do mundo?'))\n",
    "\n",
    "print(example_prompt.format_messages(**exemplos[0]))"
   ]
  },
  {
   "cell_type": "code",
   "execution_count": null,
   "id": "a6f02f53",
   "metadata": {},
   "outputs": [],
   "source": []
  }
 ],
 "metadata": {
  "kernelspec": {
   "display_name": "Python 3",
   "language": "python",
   "name": "python3"
  },
  "language_info": {
   "codemirror_mode": {
    "name": "ipython",
    "version": 3
   },
   "file_extension": ".py",
   "mimetype": "text/x-python",
   "name": "python",
   "nbconvert_exporter": "python",
   "pygments_lexer": "ipython3",
   "version": "3.13.3"
  }
 },
 "nbformat": 4,
 "nbformat_minor": 5
}
